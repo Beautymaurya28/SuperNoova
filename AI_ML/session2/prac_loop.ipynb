{
 "cells": [
  {
   "cell_type": "code",
   "execution_count": 8,
   "id": "5b5f235b",
   "metadata": {},
   "outputs": [
    {
     "name": "stdout",
     "output_type": "stream",
     "text": [
      "when you dont know how many times you want to repeat just doing until the condition is fail\n",
      "0\n",
      "1\n",
      "2\n",
      "3\n",
      "4\n"
     ]
    }
   ],
   "source": [
    "#whileloop\n",
    "print(\"when you dont know how many times you want to repeat just doing until the condition is fail\")\n",
    "x=0\n",
    "while x<5:\n",
    "    print(x)\n",
    "    x+=1\n",
    "\n",
    "    \n"
   ]
  },
  {
   "cell_type": "code",
   "execution_count": 12,
   "id": "4a332265",
   "metadata": {},
   "outputs": [
    {
     "name": "stdout",
     "output_type": "stream",
     "text": [
      "break: stop the loop\n",
      "ex:\n",
      "found at 1\n"
     ]
    }
   ],
   "source": [
    "#loop control\n",
    "print(\"break: stop the loop\")\n",
    "print(\"ex:\")\n",
    "x=1\n",
    "for x in range(10):\n",
    "    if x==1:\n",
    "        print(f\"found at {x}\" )\n",
    "        break"
   ]
  },
  {
   "cell_type": "code",
   "execution_count": 14,
   "id": "df796ad7",
   "metadata": {},
   "outputs": [
    {
     "name": "stdout",
     "output_type": "stream",
     "text": [
      "4\n"
     ]
    }
   ],
   "source": [
    "#continue\n",
    "\n",
    "for i in range(5):\n",
    "  if i==3:\n",
    "    continue\n",
    "print(i)"
   ]
  },
  {
   "cell_type": "code",
   "execution_count": 4,
   "id": "4442872b",
   "metadata": {},
   "outputs": [
    {
     "name": "stdout",
     "output_type": "stream",
     "text": [
      "0 ['apple', 'banana', 'cherry']\n",
      "1 ['apple', 'banana', 'cherry']\n",
      "2 ['apple', 'banana', 'cherry']\n"
     ]
    }
   ],
   "source": [
    "#loop with index\n",
    "fruits=['apple','banana','cherry']\n",
    "for i in range(len(fruits)):\n",
    "    print(i,fruits)\n"
   ]
  },
  {
   "cell_type": "code",
   "execution_count": 2,
   "id": "c2d622f1",
   "metadata": {},
   "outputs": [
    {
     "name": "stdout",
     "output_type": "stream",
     "text": [
      "cherry\n",
      "apple\n",
      "banana\n"
     ]
    }
   ],
   "source": [
    "#loop through a list\n",
    "fruits={'apple','banana','cherry'}\n",
    "for fruit in fruits:\n",
    "    print(fruit)"
   ]
  },
  {
   "cell_type": "code",
   "execution_count": null,
   "id": "b53e2b0e",
   "metadata": {},
   "outputs": [],
   "source": [
    "print(\"repeating the stuff again and again until the given condition\")"
   ]
  },
  {
   "cell_type": "code",
   "execution_count": 1,
   "id": "3234caee",
   "metadata": {},
   "outputs": [
    {
     "name": "stdout",
     "output_type": "stream",
     "text": [
      "it used when you know when you have to stop means used when we know how many times we want to repeat\n",
      "0\n",
      "1\n",
      "2\n",
      "3\n",
      "4\n"
     ]
    }
   ],
   "source": [
    "#for loop\n",
    "print(\"it used when you know when you have to stop means used when we know how many times we want to repeat\")\n",
    "for i in range(5):\n",
    "    print(i)"
   ]
  }
 ],
 "metadata": {
  "kernelspec": {
   "display_name": "Python 3",
   "language": "python",
   "name": "python3"
  },
  "language_info": {
   "codemirror_mode": {
    "name": "ipython",
    "version": 3
   },
   "file_extension": ".py",
   "mimetype": "text/x-python",
   "name": "python",
   "nbconvert_exporter": "python",
   "pygments_lexer": "ipython3",
   "version": "3.11.9"
  }
 },
 "nbformat": 4,
 "nbformat_minor": 5
}
