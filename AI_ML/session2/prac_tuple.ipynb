{
 "cells": [
  {
   "cell_type": "code",
   "execution_count": 6,
   "id": "c2107691",
   "metadata": {},
   "outputs": [
    {
     "data": {
      "text/plain": [
       "(2, 4, 1, 8, 5, 2, 9, 4, 2, 9, 4)"
      ]
     },
     "execution_count": 6,
     "metadata": {},
     "output_type": "execute_result"
    }
   ],
   "source": [
    "# repeating and concatnating\n",
    "tup1=(2,4,1,8,5)\n",
    "tup2=(2,9,4)\n",
    "tup1+tup2*2"
   ]
  },
  {
   "cell_type": "code",
   "execution_count": 5,
   "id": "b75b1282",
   "metadata": {},
   "outputs": [
    {
     "data": {
      "text/plain": [
       "(2, 4, 'qwe', 2, 1, 8, 2, 4, 'qwe', 2, 1, 8)"
      ]
     },
     "execution_count": 5,
     "metadata": {},
     "output_type": "execute_result"
    }
   ],
   "source": [
    "# repeating the tuple element\n",
    "tup1=(2,4,\"qwe\",2,1,8)\n",
    "tup1*2"
   ]
  },
  {
   "cell_type": "code",
   "execution_count": 3,
   "id": "e559f681",
   "metadata": {},
   "outputs": [
    {
     "data": {
      "text/plain": [
       "(1, 'hello', 9, 3, 4, 'jkf', 8)"
      ]
     },
     "execution_count": 3,
     "metadata": {},
     "output_type": "execute_result"
    }
   ],
   "source": [
    "# concatenating the tuple\n",
    "tup1=(1,\"hello\",9,3)\n",
    "tup2=(4,\"jkf\",8)\n",
    "tup1+tup2"
   ]
  },
  {
   "cell_type": "code",
   "execution_count": 2,
   "id": "c4930241",
   "metadata": {},
   "outputs": [
    {
     "data": {
      "text/plain": [
       "4"
      ]
     },
     "execution_count": 2,
     "metadata": {},
     "output_type": "execute_result"
    }
   ],
   "source": [
    "# find the length of tuple\n",
    "tup1=(1,\"hello\",7,9)\n",
    "len(tup1)"
   ]
  },
  {
   "cell_type": "code",
   "execution_count": 1,
   "id": "03e2f7e3",
   "metadata": {},
   "outputs": [
    {
     "name": "stdout",
     "output_type": "stream",
     "text": [
      "(1, 'treue', 2)\n"
     ]
    }
   ],
   "source": [
    "tupe=(1,'treue',2)\n",
    "print(tupe)"
   ]
  }
 ],
 "metadata": {
  "kernelspec": {
   "display_name": "Python 3",
   "language": "python",
   "name": "python3"
  },
  "language_info": {
   "codemirror_mode": {
    "name": "ipython",
    "version": 3
   },
   "file_extension": ".py",
   "mimetype": "text/x-python",
   "name": "python",
   "nbconvert_exporter": "python",
   "pygments_lexer": "ipython3",
   "version": "3.11.9"
  }
 },
 "nbformat": 4,
 "nbformat_minor": 5
}
