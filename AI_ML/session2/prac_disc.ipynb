{
 "cells": [
  {
   "cell_type": "code",
   "execution_count": 2,
   "id": "ead227ae",
   "metadata": {},
   "outputs": [
    {
     "data": {
      "text/plain": [
       "dict_keys(['name', 'organge', 'apple'])"
      ]
     },
     "execution_count": 2,
     "metadata": {},
     "output_type": "execute_result"
    }
   ],
   "source": [
    "fruits={\"name\":\"nova\",\"organge\":5,\"apple\":2}\n",
    "fruits.keys()"
   ]
  },
  {
   "cell_type": "code",
   "execution_count": 3,
   "id": "3bb5b627",
   "metadata": {},
   "outputs": [
    {
     "data": {
      "text/plain": [
       "dict_values(['nova', 5, 2])"
      ]
     },
     "execution_count": 3,
     "metadata": {},
     "output_type": "execute_result"
    }
   ],
   "source": [
    "#extracting value\n",
    "fruits.values()"
   ]
  },
  {
   "cell_type": "code",
   "execution_count": 5,
   "id": "b3fe07fc",
   "metadata": {},
   "outputs": [
    {
     "name": "stdout",
     "output_type": "stream",
     "text": [
      "{'name': 'nova', 'organge': 5, 'apple': 2, 'mango': 50}\n"
     ]
    }
   ],
   "source": [
    "#adding new element\n",
    "fruits[\"mango\"]=50\n",
    "print(fruits)"
   ]
  },
  {
   "cell_type": "code",
   "execution_count": 7,
   "id": "41b7326c",
   "metadata": {},
   "outputs": [
    {
     "name": "stdout",
     "output_type": "stream",
     "text": [
      "{'name': 'nova', 'organge': 5, 'apple': 2, 'mango': 30}\n"
     ]
    }
   ],
   "source": [
    "#changing the element value\n",
    "fruits[\"mango\"]=30\n",
    "print(fruits)"
   ]
  },
  {
   "cell_type": "code",
   "execution_count": 9,
   "id": "0c76a066",
   "metadata": {},
   "outputs": [
    {
     "name": "stdout",
     "output_type": "stream",
     "text": [
      "{'name': 'nova', 'organge': 5, 'apple': 2, 'mango': 30, 'bhd': 34, 'hsjhj': 89, 'hjfhdaj': '9090'}\n"
     ]
    }
   ],
   "source": [
    "#update one disc element with another\n",
    "fruits2={\"bhd\":34,\"hsjhj\":89,\"hjfhdaj\":\"9090\"}\n",
    "fruits.update(fruits2)\n",
    "print(fruits)"
   ]
  },
  {
   "cell_type": "code",
   "execution_count": 10,
   "id": "87604f3c",
   "metadata": {},
   "outputs": [
    {
     "data": {
      "text/plain": [
       "2"
      ]
     },
     "execution_count": 10,
     "metadata": {},
     "output_type": "execute_result"
    }
   ],
   "source": [
    "#poping an element\n",
    "fruits.pop(\"apple\")"
   ]
  }
 ],
 "metadata": {
  "kernelspec": {
   "display_name": "Python 3",
   "language": "python",
   "name": "python3"
  },
  "language_info": {
   "codemirror_mode": {
    "name": "ipython",
    "version": 3
   },
   "file_extension": ".py",
   "mimetype": "text/x-python",
   "name": "python",
   "nbconvert_exporter": "python",
   "pygments_lexer": "ipython3",
   "version": "3.11.9"
  }
 },
 "nbformat": 4,
 "nbformat_minor": 5
}
