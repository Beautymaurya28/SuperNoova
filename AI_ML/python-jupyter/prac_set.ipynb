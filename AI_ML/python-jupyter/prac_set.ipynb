{
 "cells": [
  {
   "cell_type": "code",
   "execution_count": 5,
   "id": "211b4072",
   "metadata": {},
   "outputs": [
    {
     "name": "stdout",
     "output_type": "stream",
     "text": [
      "{1, 2, 'a', 'true', 'hello'}\n",
      "{1, 2, 'true', 'hello'}\n",
      "{1, 2, 10, 'true', 20, 'hello', 30}\n"
     ]
    },
    {
     "data": {
      "text/plain": [
       "{1, 10, 2, 20, 30, 'd', 'f', 'hello', 'j', 'true'}"
      ]
     },
     "execution_count": 5,
     "metadata": {},
     "output_type": "execute_result"
    }
   ],
   "source": [
    "s1={1,\"a\",\"true\",2}\n",
    "s1.add(\"hello\")\n",
    "print(s1)\n",
    "# removing elemet\n",
    "s1.remove(\"a\")\n",
    "print(s1)\n",
    "#updating multipleelement\n",
    "s1.update([10,20,30])\n",
    "print(s1)\n",
    "#union of two sets\n",
    "s2={\"d\",\"f\",\"j\"}\n",
    "s1.union(s2)"
   ]
  }
 ],
 "metadata": {
  "kernelspec": {
   "display_name": "Python 3",
   "language": "python",
   "name": "python3"
  },
  "language_info": {
   "codemirror_mode": {
    "name": "ipython",
    "version": 3
   },
   "file_extension": ".py",
   "mimetype": "text/x-python",
   "name": "python",
   "nbconvert_exporter": "python",
   "pygments_lexer": "ipython3",
   "version": "3.11.9"
  }
 },
 "nbformat": 4,
 "nbformat_minor": 5
}
