{
 "cells": [
  {
   "cell_type": "code",
   "execution_count": 8,
   "id": "ad9407af",
   "metadata": {},
   "outputs": [
    {
     "name": "stdout",
     "output_type": "stream",
     "text": [
      "[0, 1, 2, 3, 8, 9, 51]\n"
     ]
    }
   ],
   "source": [
    "# sorting\n",
    "my_num=[2,3,51,8,1,9,0]\n",
    "my_num.sort()\n",
    "print(my_num)"
   ]
  },
  {
   "cell_type": "code",
   "execution_count": 13,
   "id": "b27c5798",
   "metadata": {},
   "outputs": [
    {
     "name": "stdout",
     "output_type": "stream",
     "text": [
      "[1, 'hello', 8, 'b', 1]\n"
     ]
    }
   ],
   "source": [
    "# inserting element at specific position\n",
    "my_num=[1,'a',2,'b',1]\n",
    "my_num[1]=\"hello\"\n",
    "my_num[2]=8\n",
    "print(my_num)"
   ]
  },
  {
   "cell_type": "code",
   "execution_count": 7,
   "id": "2a3248eb",
   "metadata": {},
   "outputs": [
    {
     "name": "stdout",
     "output_type": "stream",
     "text": [
      "['apple', 'banana', 'guava', 'mango']\n"
     ]
    }
   ],
   "source": [
    "# sorting a list\n",
    "my_num=[\"mango\",\"banana\",\"guava\",\"apple\"]\n",
    "my_num.sort()\n",
    "print(my_num)"
   ]
  },
  {
   "cell_type": "code",
   "execution_count": 6,
   "id": "144165a6",
   "metadata": {},
   "outputs": [
    {
     "name": "stdout",
     "output_type": "stream",
     "text": [
      "[45.5, 3, 'hello', 'a', 1]\n"
     ]
    }
   ],
   "source": [
    "# reversing element a list\n",
    "my_num=[1,'a',\"hello\",3,45.5]\n",
    "my_num.reverse()\n",
    "print(my_num)"
   ]
  },
  {
   "cell_type": "code",
   "execution_count": 5,
   "id": "3a77a2b4",
   "metadata": {},
   "outputs": [
    {
     "name": "stdout",
     "output_type": "stream",
     "text": [
      "[1, 'q', 2, 'b', 3, 'fisrt']\n"
     ]
    }
   ],
   "source": [
    "# appends a new element\n",
    "my_num=[1,\"q\",2,\"b\",3]\n",
    "my_num.append(\"fisrt\")\n",
    "print(my_num)"
   ]
  },
  {
   "cell_type": "code",
   "execution_count": null,
   "id": "1ed98c90",
   "metadata": {},
   "outputs": [
    {
     "name": "stdout",
     "output_type": "stream",
     "text": [
      "8\n"
     ]
    }
   ],
   "source": [
    "# popping the last element\n",
    "my_num=[3,25,7,8]\n",
    "print(my_num.pop())\n",
    "print(\"we use pop to fetch the last element from the list\")\n"
   ]
  },
  {
   "cell_type": "code",
   "execution_count": 1,
   "id": "1feaaa7d",
   "metadata": {},
   "outputs": [
    {
     "name": "stdout",
     "output_type": "stream",
     "text": [
      "[1, 9, 3, 4]\n"
     ]
    }
   ],
   "source": [
    "my_num=[1,2,3,4]\n",
    "my_num[1]=9\n",
    "print(my_num)"
   ]
  }
 ],
 "metadata": {
  "kernelspec": {
   "display_name": "Python 3",
   "language": "python",
   "name": "python3"
  },
  "language_info": {
   "codemirror_mode": {
    "name": "ipython",
    "version": 3
   },
   "file_extension": ".py",
   "mimetype": "text/x-python",
   "name": "python",
   "nbconvert_exporter": "python",
   "pygments_lexer": "ipython3",
   "version": "3.11.9"
  }
 },
 "nbformat": 4,
 "nbformat_minor": 5
}
