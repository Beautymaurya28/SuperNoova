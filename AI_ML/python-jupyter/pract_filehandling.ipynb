{
 "cells": [
  {
   "cell_type": "code",
   "execution_count": 1,
   "id": "149dcb3a",
   "metadata": {},
   "outputs": [
    {
     "name": "stdout",
     "output_type": "stream",
     "text": [
      "result 2.0\n",
      "task done \n"
     ]
    }
   ],
   "source": [
    "#ans1:\n",
    "try:\n",
    "   num1=int(input(\"enter the first num: \"))\n",
    "   num2=int(input(\"enter the second number\"))\n",
    "   result=num1/num2\n",
    "   print(\"result\",result)\n",
    "except ZeroDivisionError:\n",
    "   print(\"cannot devide by zero\")\n",
    "except ValueError:\n",
    "   print(\"invalid value\")\n",
    "finally:\n",
    "   print(\"task done \")\n",
    "   \n"
   ]
  },
  {
   "cell_type": "code",
   "execution_count": 3,
   "id": "dbd6106b",
   "metadata": {},
   "outputs": [
    {
     "name": "stdout",
     "output_type": "stream",
     "text": [
      "doesnot exisr\n",
      "task done\n"
     ]
    }
   ],
   "source": [
    "#task2:\n",
    "# Write a Python program to:\n",
    "# Try reading a file named notes.txt\n",
    "# If it doesn’t exist, catch the error and print a friendly message\n",
    "try:\n",
    "    with open(\"dataj.txt\",\"r\") as file:\n",
    "        content=file.read()\n",
    "        print(\"file content:\\n\",content)\n",
    "except FileNotFoundError:\n",
    "    print(\"doesnot exisr\")\n",
    "finally:\n",
    "    print(\"task done\")\n",
    "\n"
   ]
  },
  {
   "cell_type": "code",
   "execution_count": null,
   "id": "fd6d58e6",
   "metadata": {},
   "outputs": [],
   "source": [
    "# task3:Ask user for their name and a quote.\n",
    "# Write both to a file my_quotes.txt like:\n",
    "try:\n",
    "    name = input(\" Enter your name: \")\n",
    "    quote = input(\" Enter your favorite quote: \")\n",
    "\n",
    "    with open(\"data.txt\", \"w\") as file:\n",
    "        file.write(f\"Name: {name}\\n\")\n",
    "        file.write(f\"Quote: \\\"{quote}\\\"\\n\")\n",
    "\n",
    "    print(\" Quote saved to 'my_quotes.txt' successfully!\")\n",
    "\n",
    "except Exception as e:\n",
    "    print(\" Something went wrong:\", str(e))\n"
   ]
  },
  {
   "cell_type": "code",
   "execution_count": 4,
   "id": "d6b61a1d",
   "metadata": {},
   "outputs": [
    {
     "name": "stdout",
     "output_type": "stream",
     "text": [
      "total words 7\n"
     ]
    }
   ],
   "source": [
    "# task4:Read from a file called story.txt\n",
    "# Count and print how many words are in the file\n",
    "# 🧠 Bonus: Handle file not found using exception\n",
    "with open(\"data.txt\",\"r\")as file:\n",
    "    content=file.read()\n",
    "    words=content.split()\n",
    "    print(\"total words\",len(words))"
   ]
  },
  {
   "cell_type": "code",
   "execution_count": null,
   "id": "c0b8476c",
   "metadata": {},
   "outputs": [],
   "source": []
  },
  {
   "cell_type": "code",
   "execution_count": null,
   "id": "17d7b055",
   "metadata": {},
   "outputs": [],
   "source": [
    "# Q1. Handle Division Error\n",
    "# Write a program that:\n",
    "\n",
    "# Takes 2 inputs from user\n",
    "\n",
    "# Divides them\n",
    "\n",
    "# Catches division by zero and value error"
   ]
  }
 ],
 "metadata": {
  "kernelspec": {
   "display_name": "Python 3",
   "language": "python",
   "name": "python3"
  },
  "language_info": {
   "codemirror_mode": {
    "name": "ipython",
    "version": 3
   },
   "file_extension": ".py",
   "mimetype": "text/x-python",
   "name": "python",
   "nbconvert_exporter": "python",
   "pygments_lexer": "ipython3",
   "version": "3.11.9"
  }
 },
 "nbformat": 4,
 "nbformat_minor": 5
}
