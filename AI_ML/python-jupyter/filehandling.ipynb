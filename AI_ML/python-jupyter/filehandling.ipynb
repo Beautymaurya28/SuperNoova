{
 "cells": [
  {
   "cell_type": "code",
   "execution_count": 9,
   "id": "d9a4411c",
   "metadata": {},
   "outputs": [
    {
     "name": "stdout",
     "output_type": "stream",
     "text": [
      "heencndsbvnmhlloo....\n",
      " anther line added\n",
      " anther line added\n"
     ]
    }
   ],
   "source": [
    "#appending to afile\n",
    "with open(\"data.txt\",\"a\") as file:\n",
    "    file.write(\"\\n anther line added\")\n",
    "with open(\"data.txt\",\"r\") as file:\n",
    "    content=file.read()\n",
    "    print(content)"
   ]
  },
  {
   "cell_type": "code",
   "execution_count": 7,
   "id": "7aba9661",
   "metadata": {},
   "outputs": [
    {
     "name": "stdout",
     "output_type": "stream",
     "text": [
      "heencndsbvnmhlloo....\n"
     ]
    }
   ],
   "source": [
    "with open(\"data.txt\",\"r\") as file:\n",
    "    content=file.read()\n",
    "    print(content)"
   ]
  },
  {
   "cell_type": "code",
   "execution_count": 5,
   "id": "86cbdca0",
   "metadata": {},
   "outputs": [],
   "source": [
    "#writing a file\n",
    "with open(\"data.txt\",\"w\") as file:\n",
    "    file.write(\"heencndsbvnmhlloo....\")\n",
    "    "
   ]
  },
  {
   "cell_type": "code",
   "execution_count": null,
   "id": "124554a1",
   "metadata": {},
   "outputs": [],
   "source": [
    "#basic synatx:\n",
    "try:\n",
    "    num=int(input(\"enter a number: \"))\n",
    "    result=10/num;\n",
    "    print(\"result:\",result)\n",
    "except ZeroDivisionError:\n",
    "    print(\"cannot devide by zero\")\n",
    "except ValueError:\n",
    "    print(\"please enter valid number:\")\n",
    "finally:\n",
    "    print(\"this always run, error or not\")\n",
    "\n"
   ]
  },
  {
   "cell_type": "code",
   "execution_count": 4,
   "id": "ae573b52",
   "metadata": {},
   "outputs": [
    {
     "name": "stdout",
     "output_type": "stream",
     "text": [
      "reading the file: \n",
      "dbfkjvbjkfbvjkbdfnvbiuerhgjwngvsmfbbbbbbbbbbbbbbbbbbbbbbbbbbbbbbvbnmxb\n",
      "gnjrgvjfsbvnf\n",
      "vnfbvhfbvdf\n",
      "ndjrwehvbnvur\n",
      "Numberb\n",
      "beustu\n",
      "beauty\n",
      "beauty\n"
     ]
    }
   ],
   "source": [
    "#file handling\n",
    "print(\"reading the file: \")\n",
    "with open(\"data.txt\",\"r\") as file:\n",
    "    content=file.read()\n",
    "    print(content)"
   ]
  },
  {
   "cell_type": "code",
   "execution_count": 3,
   "id": "ea08055c",
   "metadata": {},
   "outputs": [
    {
     "name": "stdout",
     "output_type": "stream",
     "text": [
      "dbfkjvbjkfbvjkbdfnvbiuerhgjwngvsmfbbbbbbbbbbbbbbbbbbbbbbbbbbbbbbvbnmxb\n",
      "gnjrgvjfsbvnf\n",
      "vnfbvhfbvdf\n",
      "ndjrwehvbnvur\n",
      "Numberb\n",
      "beustu\n",
      "beauty\n",
      "beauty\n"
     ]
    }
   ],
   "source": [
    "with open(\"data.txt\",\"r\") as file:\n",
    "    content=file.read()\n",
    "    print(content)"
   ]
  },
  {
   "cell_type": "code",
   "execution_count": null,
   "id": "a647bffc",
   "metadata": {},
   "outputs": [],
   "source": [
    "print(\"what is exception handling:\")\n",
    "print(\"when our program excounters and error (like devide by zero,file not found ete),instead of crashing -then python thorws an exception.\")\n",
    "print(\"we can handle it like\")\n",
    "#syntax\n",
    "try:\n",
    "    #risky code\n",
    "except:\n",
    "    #handle error"
   ]
  },
  {
   "cell_type": "code",
   "execution_count": null,
   "id": "139c1e9d",
   "metadata": {},
   "outputs": [],
   "source": []
  }
 ],
 "metadata": {
  "kernelspec": {
   "display_name": "Python 3",
   "language": "python",
   "name": "python3"
  },
  "language_info": {
   "codemirror_mode": {
    "name": "ipython",
    "version": 3
   },
   "file_extension": ".py",
   "mimetype": "text/x-python",
   "name": "python",
   "nbconvert_exporter": "python",
   "pygments_lexer": "ipython3",
   "version": "3.11.9"
  }
 },
 "nbformat": 4,
 "nbformat_minor": 5
}
