{
 "cells": [
  {
   "cell_type": "code",
   "execution_count": null,
   "id": "b552639d",
   "metadata": {},
   "outputs": [],
   "source": [
    "#tupple is an immuatable data types in python\n",
    "\n",
    "a=(1,2,5,6)\n",
    "print(type(a)) #<class tupple>\n",
    "\n",
    "b=(1,)\n",
    "print(type(b))  #<class tupple>\n",
    "\n",
    "\n",
    "#tupple methode\n",
    "#tupplename.count()\n",
    "name=(\"rohan\",\"priya\",\"shruti\",\"kiya\")\n",
    "print(name.count(\"rohan\"))   #1\n",
    "\n",
    "#tupple.Index\n",
    "print(name.index(\"shruti\"))  #2\n",
    "\n",
    "#repeated\n",
    "print(name*3)  \n",
    "\n",
    "#membership:you can check if an item is exist in a tupple using the 'in' keyword\n",
    "print(\"rohan\" in name)  #it will return true\n",
    "\n"
   ]
  },
  {
   "cell_type": "code",
   "execution_count": 23,
   "id": "f2b99f74",
   "metadata": {},
   "outputs": [
    {
     "data": {
      "text/plain": [
       "7"
      ]
     },
     "execution_count": 23,
     "metadata": {},
     "output_type": "execute_result"
    }
   ],
   "source": [
    "tup1=(1,\"a\",True,2,\"b\",False)\n",
    "tup1[0]\n",
    "tup1[-1]\n",
    "tup1[2:5]\n",
    "#tup1[2]=False\n",
    "#finding the length of tuple\n",
    "len(tup1)-1\n",
    "#concatenating\n",
    "tup2=(2,1,7,4,6)\n",
    "tup1+tup2\n",
    "#repeating tuple element\n",
    "tup1*2\n",
    "tup2*3\n",
    "#repeating and concatenating\n",
    "tup1*2+tup2*2\n",
    "tup1+tup2*2\n",
    "\n",
    "#tuple functiom\n",
    "#find min\n",
    "min(tup2)\n",
    "#find max\n",
    "max(tup2)\n"
   ]
  }
 ],
 "metadata": {
  "kernelspec": {
   "display_name": "Python 3",
   "language": "python",
   "name": "python3"
  },
  "language_info": {
   "codemirror_mode": {
    "name": "ipython",
    "version": 3
   },
   "file_extension": ".py",
   "mimetype": "text/x-python",
   "name": "python",
   "nbconvert_exporter": "python",
   "pygments_lexer": "ipython3",
   "version": "3.11.9"
  }
 },
 "nbformat": 4,
 "nbformat_minor": 5
}
