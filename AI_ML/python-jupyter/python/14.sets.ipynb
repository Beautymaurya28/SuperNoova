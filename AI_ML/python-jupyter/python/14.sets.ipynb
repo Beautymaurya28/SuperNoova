{
 "cells": [
  {
   "cell_type": "code",
   "execution_count": 7,
   "id": "645aff95",
   "metadata": {},
   "outputs": [
    {
     "name": "stdout",
     "output_type": "stream",
     "text": [
      "{1, 2, 3, 5, 'a'}\n",
      "{}\n"
     ]
    },
    {
     "ename": "TypeError",
     "evalue": "'set' object is not callable",
     "output_type": "error",
     "traceback": [
      "\u001b[31m---------------------------------------------------------------------------\u001b[39m",
      "\u001b[31mTypeError\u001b[39m                                 Traceback (most recent call last)",
      "\u001b[36mCell\u001b[39m\u001b[36m \u001b[39m\u001b[32mIn[7]\u001b[39m\u001b[32m, line 13\u001b[39m\n\u001b[32m     10\u001b[39m \u001b[38;5;28mprint\u001b[39m(b)\n\u001b[32m     12\u001b[39m \u001b[38;5;66;03m#empty set\u001b[39;00m\n\u001b[32m---> \u001b[39m\u001b[32m13\u001b[39m d=\u001b[38;5;28;43mset\u001b[39;49m\u001b[43m(\u001b[49m\u001b[43m)\u001b[49m  \u001b[38;5;66;03m#don't use s={} as it will create an empty dictionay\u001b[39;00m\n\u001b[32m     14\u001b[39m \u001b[38;5;28mprint\u001b[39m(\u001b[38;5;28mtype\u001b[39m(d))\n\u001b[32m     17\u001b[39m \u001b[38;5;66;03m#value doesnot repeat in set\u001b[39;00m\n",
      "\u001b[31mTypeError\u001b[39m: 'set' object is not callable"
     ]
    }
   ],
   "source": [
    "#set is a collction of well defined elements\n",
    "s={1,2,\"a\",5,3}\n",
    "s.add(1)\n",
    "s.add(2)\n",
    "print(s)\n",
    "\n",
    "\n",
    "#empty dictionary\n",
    "b={}\n",
    "print(b)\n",
    "\n",
    "#empty set\n",
    "d=set()  #don't use s={} as it will create an empty dictionay\n",
    "print(type(d))\n",
    "\n",
    "\n",
    "#value doesnot repeat in set\n",
    "e={1,2,3,5,3,5,4,6,6,7,7}\n",
    "print(e)\n",
    "\n",
    "#sets methode\n",
    "#1.add=this is most important methode in sets\n",
    "box={1,2,\"beauty\",89.3,\"tadad\"}\n",
    "box.add(\"hello\")\n",
    "print(box)\n",
    "\n",
    "\n",
    "#3.copy\n",
    "new_box=box.copy()\n",
    "print(new_box)\n",
    "\n",
    "\n",
    "#2.clear\n",
    "box.clear() #it will remove all the element in set \n",
    "print(box)\n",
    "\n",
    "\n",
    "#3.difference\n",
    "set1={1,2,3,4,6,9}\n",
    "set2={3,2,4,8,9,10}\n",
    "print(set1.difference(set2))\n",
    "\n",
    "#.difference_updates\n",
    "#5.discard\n",
    "set1.discard(3)\n",
    "print(set1)\n",
    "\n",
    "#6.intersection\n",
    "set1={1,2,3,4,5,6}\n",
    "set2={3,2,4,5,6,7,8,9}\n",
    "print(set1.intersection(set2)) #return a new set with element common \n",
    "\n",
    "#operation on set\n",
    "set={1,8,2,3}\n",
    "\n",
    "#1.len(s)= return the legth of set.\n",
    "print(len(set))\n",
    "\n",
    "#2.setname.remove()=updates the set and remove gievn value from set\n",
    "set.remove(2)\n",
    "print(set)\n",
    "\n",
    "#3.setname.pop\n",
    "sets=set.pop()\n",
    "print(sets)\n",
    "\n",
    "#4.setname.clear\n",
    "set.clear()\n",
    "print(set)\n",
    "\n",
    "#5.setname.Union\n",
    "setss={1,2,3,4,8,11,23,34}\n",
    "setss2={9,50}\n",
    "unionsets=setss.union(setss2)\n",
    "print(unionsets)\n",
    "\n",
    "#5.setname.intersection\n",
    "setss={1,2,3,4,8,11,23,34}\n",
    "setss2={9,50,11,3,23}\n",
    "intersectionsets=setss.intersection(setss2)\n",
    "print(intersectionsets)\n",
    "\n",
    "\n"
   ]
  }
 ],
 "metadata": {
  "kernelspec": {
   "display_name": "Python 3",
   "language": "python",
   "name": "python3"
  },
  "language_info": {
   "codemirror_mode": {
    "name": "ipython",
    "version": 3
   },
   "file_extension": ".py",
   "mimetype": "text/x-python",
   "name": "python",
   "nbconvert_exporter": "python",
   "pygments_lexer": "ipython3",
   "version": "3.11.9"
  }
 },
 "nbformat": 4,
 "nbformat_minor": 5
}
