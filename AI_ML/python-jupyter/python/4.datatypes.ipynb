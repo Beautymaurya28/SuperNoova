{
 "cells": [
  {
   "cell_type": "code",
   "execution_count": 6,
   "id": "44f6f8f6",
   "metadata": {},
   "outputs": [
    {
     "data": {
      "text/plain": [
       "complex"
      ]
     },
     "execution_count": 6,
     "metadata": {},
     "output_type": "execute_result"
    }
   ],
   "source": [
    "comp1=3+5j\n",
    "type(comp1)\n",
    "#complex"
   ]
  },
  {
   "cell_type": "code",
   "execution_count": null,
   "id": "1ab2d444",
   "metadata": {},
   "outputs": [
    {
     "data": {
      "text/plain": [
       "str"
      ]
     },
     "execution_count": 4,
     "metadata": {},
     "output_type": "execute_result"
    }
   ],
   "source": [
    "word=\"fruits\"\n",
    "type(word)\n"
   ]
  },
  {
   "cell_type": "code",
   "execution_count": 3,
   "id": "3c52e23e",
   "metadata": {},
   "outputs": [
    {
     "data": {
      "text/plain": [
       "int"
      ]
     },
     "execution_count": 3,
     "metadata": {},
     "output_type": "execute_result"
    }
   ],
   "source": [
    "num=123\n",
    "type(num)"
   ]
  },
  {
   "cell_type": "code",
   "execution_count": 1,
   "id": "e2e6fe92",
   "metadata": {},
   "outputs": [
    {
     "name": "stdout",
     "output_type": "stream",
     "text": [
      "123 3.123 true word\n"
     ]
    }
   ],
   "source": [
    "int =123\n",
    "float=3.123\n",
    "boolean='true'\n",
    "string=\"word\"\n",
    "print(int,float,boolean,string)"
   ]
  }
 ],
 "metadata": {
  "kernelspec": {
   "display_name": "Python 3",
   "language": "python",
   "name": "python3"
  },
  "language_info": {
   "codemirror_mode": {
    "name": "ipython",
    "version": 3
   },
   "file_extension": ".py",
   "mimetype": "text/x-python",
   "name": "python",
   "nbconvert_exporter": "python",
   "pygments_lexer": "ipython3",
   "version": "3.11.9"
  }
 },
 "nbformat": 4,
 "nbformat_minor": 5
}
