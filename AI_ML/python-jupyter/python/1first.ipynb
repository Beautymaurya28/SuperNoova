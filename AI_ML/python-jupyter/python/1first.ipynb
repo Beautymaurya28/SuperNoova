{
 "cells": [
  {
   "cell_type": "code",
   "execution_count": 1,
   "id": "d164c5ef-9981-42a2-9a66-3880e82aa2ee",
   "metadata": {},
   "outputs": [
    {
     "name": "stdout",
     "output_type": "stream",
     "text": [
      "hey! let's start the ai/ml\n"
     ]
    }
   ],
   "source": [
    "print(\"hey! let's start the ai/ml\")"
   ]
  },
  {
   "cell_type": "code",
   "execution_count": null,
   "id": "b68af624-9c8f-485d-bd35-781f303b6aaf",
   "metadata": {},
   "outputs": [],
   "source": []
  }
 ],
 "metadata": {
  "kernelspec": {
   "display_name": "Python 3 (ipykernel)",
   "language": "python",
   "name": "python3"
  },
  "language_info": {
   "codemirror_mode": {
    "name": "ipython",
    "version": 3
   },
   "file_extension": ".py",
   "mimetype": "text/x-python",
   "name": "python",
   "nbconvert_exporter": "python",
   "pygments_lexer": "ipython3",
   "version": "3.13.5"
  }
 },
 "nbformat": 4,
 "nbformat_minor": 5
}
