{
 "cells": [
  {
   "cell_type": "code",
   "execution_count": null,
   "id": "2b5a70a7",
   "metadata": {},
   "outputs": [],
   "source": [
    "print(\"smallest meaningful components in a program\")\n",
    "print(\"we have 4 types of tokens: \")\n",
    "print(\"1.keywords:- keywords are special reserved words ex. false,class,Finally,Return,def,Try etc (we have 26 keywords in python)\")\n",
    "print(\"2.identifiers:- are names used for variables,function or objects. it is case senstive\")\n",
    "print(\"3. Literals:- constants in python\")\n",
    "\n"
   ]
  }
 ],
 "metadata": {
  "language_info": {
   "name": "python"
  }
 },
 "nbformat": 4,
 "nbformat_minor": 5
}
