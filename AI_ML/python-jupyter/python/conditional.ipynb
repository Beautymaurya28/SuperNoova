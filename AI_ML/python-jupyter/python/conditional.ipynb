{
 "cells": [
  {
   "cell_type": "code",
   "execution_count": 6,
   "id": "0d1e9264",
   "metadata": {},
   "outputs": [
    {
     "name": "stdout",
     "output_type": "stream",
     "text": [
      "c is a greater\n"
     ]
    }
   ],
   "source": [
    "#if else if or if elif\n",
    "a=10\n",
    "b=20\n",
    "c=30\n",
    "if(a>b)&(b>c):\n",
    "    print(\"a is greater\")\n",
    "elif(b>a)&(b>c):\n",
    "    print(\"b is a greater\")\n",
    "else:\n",
    "    print(\"c is a greater\")"
   ]
  },
  {
   "cell_type": "code",
   "execution_count": 7,
   "id": "8e1197a5",
   "metadata": {},
   "outputs": [
    {
     "name": "stdout",
     "output_type": "stream",
     "text": [
      "a is present in tup1\n"
     ]
    }
   ],
   "source": [
    "#tuple with if\n",
    "tup1=(\"a\",\"b\",\"c\")\n",
    "if \"a\" in tup1:\n",
    "    print(\"a is present in tup1\")"
   ]
  },
  {
   "cell_type": "code",
   "execution_count": 9,
   "id": "2848006b",
   "metadata": {},
   "outputs": [
    {
     "name": "stdout",
     "output_type": "stream",
     "text": [
      "{'k1': 110, 'k2': 20, 'k3': 10}\n"
     ]
    }
   ],
   "source": [
    "#Disctionay with if\n",
    "d1={\"k1\":10,\"k2\":20,\"k3\":10}\n",
    "if d1[\"k1\"]==10:\n",
    "    d1[\"k1\"]=d1[\"k1\"]+100\n",
    "    print(d1)"
   ]
  },
  {
   "cell_type": "code",
   "execution_count": 5,
   "id": "60a4eeab",
   "metadata": {},
   "outputs": [
    {
     "name": "stdout",
     "output_type": "stream",
     "text": [
      "ohhoo\n"
     ]
    }
   ],
   "source": [
    "#if else if\n",
    "a=50\n",
    "if a>60:\n",
    "    print(\"wao\")\n",
    "elif a<60:\n",
    "    print(\"ohhoo\")\n",
    "else:\n",
    "    print(\"good luck\")"
   ]
  },
  {
   "cell_type": "code",
   "execution_count": 4,
   "id": "2c48a645",
   "metadata": {},
   "outputs": [
    {
     "name": "stdout",
     "output_type": "stream",
     "text": [
      "good luck\n"
     ]
    }
   ],
   "source": [
    "#if-else\n",
    "marks=50\n",
    "if marks>70:\n",
    "    print(\"pass\")\n",
    "else:\n",
    "    print(\"good luck\")"
   ]
  },
  {
   "cell_type": "code",
   "execution_count": null,
   "id": "4c0e07b0",
   "metadata": {},
   "outputs": [
    {
     "name": "stdout",
     "output_type": "stream",
     "text": [
      "ice-cream\n"
     ]
    }
   ],
   "source": [
    "#if statement\n",
    "a=50\n",
    "b=40\n",
    "if a>b:\n",
    "    print(\"ice-cream\")\n",
    "    \n"
   ]
  }
 ],
 "metadata": {
  "kernelspec": {
   "display_name": "Python 3",
   "language": "python",
   "name": "python3"
  },
  "language_info": {
   "codemirror_mode": {
    "name": "ipython",
    "version": 3
   },
   "file_extension": ".py",
   "mimetype": "text/x-python",
   "name": "python",
   "nbconvert_exporter": "python",
   "pygments_lexer": "ipython3",
   "version": "3.11.9"
  }
 },
 "nbformat": 4,
 "nbformat_minor": 5
}
