{
 "cells": [
  {
   "cell_type": "code",
   "execution_count": 12,
   "id": "2c3a6209",
   "metadata": {},
   "outputs": [
    {
     "name": "stdout",
     "output_type": "stream",
     "text": [
      "{'beauty': 100, 'rohan': 56, 'vivek': 76}\n",
      "<class 'dict'>\n",
      "100\n",
      "dict_items([('beauty', 100), ('rohan', 56), ('vivek', 76)])\n",
      "dict_keys(['beauty', 'rohan', 'vivek'])\n",
      "{'beauty': 99, 'rohan': 70, 'vivek': 76}\n",
      "99\n",
      "None\n",
      "70\n",
      "{'beauty': 99, 'vivek': 76}\n"
     ]
    },
    {
     "data": {
      "text/plain": [
       "{'orange': 90, 'banana': 30, 'guava': 20}"
      ]
     },
     "execution_count": 12,
     "metadata": {},
     "output_type": "execute_result"
    }
   ],
   "source": [
    "marks={\n",
    "    \"beauty\":100,\n",
    "    \"rohan\":56,\n",
    "    \"vivek\":76,\n",
    "}\n",
    "\n",
    "print(marks)\n",
    "print(type(marks))\n",
    "print(marks[\"beauty\"])\n",
    "\n",
    "\n",
    "#dic methods\n",
    "#1.marks.itmes():\n",
    "marks={\n",
    "    \"beauty\":100,\n",
    "    \"rohan\":56,\n",
    "    \"vivek\":76,\n",
    "}\n",
    "print(marks.items())\n",
    "\n",
    "#2.marks.keys():\n",
    "print(marks.keys())\n",
    "\n",
    "#3.marks.updates():\n",
    "marks.update({\"beauty\":99,\"rohan\":70})\n",
    "print(marks)\n",
    "\n",
    "#4.marks.get(\"name\")\n",
    "print(marks.get(\"beauty\"))\n",
    "print(marks.get(70))\n",
    "\n",
    "#5.marks.pop()\n",
    "print(marks.pop(\"rohan\"))\n",
    "print(marks)\n",
    "\n",
    "fruits={\"mango\":10,\"banana\":10,\"apple\":10}\n",
    "type(fruits)\n",
    "#extracting keys\n",
    "fruits.keys()\n",
    "#extracting value\n",
    "fruits.values()\n",
    "\n",
    "#adding new element\n",
    "fruits[\"orange\"]=30\n",
    "fruits\n",
    "#changing the existing element\n",
    "fruits[\"mango\"]=40\n",
    "fruits\n",
    "#update one dictionay element with another\n",
    "fruits1={\"apple\":10,\"orange\":90}\n",
    "fruits2={\"banana\":30,\"guava\":20}\n",
    "fruits1.update(fruits2)\n",
    "fruits1\n",
    "\n",
    "#popping an element\n",
    "fruits1.pop(\"apple\")\n",
    "fruits1"
   ]
  }
 ],
 "metadata": {
  "kernelspec": {
   "display_name": "Python 3",
   "language": "python",
   "name": "python3"
  },
  "language_info": {
   "codemirror_mode": {
    "name": "ipython",
    "version": 3
   },
   "file_extension": ".py",
   "mimetype": "text/x-python",
   "name": "python",
   "nbconvert_exporter": "python",
   "pygments_lexer": "ipython3",
   "version": "3.11.9"
  }
 },
 "nbformat": 4,
 "nbformat_minor": 5
}
