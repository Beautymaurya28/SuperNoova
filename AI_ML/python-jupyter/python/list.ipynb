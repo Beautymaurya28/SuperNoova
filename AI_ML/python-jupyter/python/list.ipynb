{
 "cells": [
  {
   "cell_type": "code",
   "execution_count": 13,
   "id": "424944b3",
   "metadata": {},
   "outputs": [
    {
     "name": "stdout",
     "output_type": "stream",
     "text": [
      "grapes\n",
      "['orange', 5, 345.6]\n",
      "[9, 8, 5, 4, 2]\n",
      "[9, 8, 5, 4, 2, 'beauty']\n",
      "['apple', 'orange', 5, 'banana', 345.6, False, 'Aakash', 'Rohan']\n",
      "4\n",
      "[1, 2, 3, 5, 6]\n",
      "32\n",
      "[32, 'marks', 8, 9, 0]\n",
      "0\n",
      "[32, 'marks', 8, 9, 'hii']\n",
      "['hii', 9, 8, 'marks', 32]\n",
      "['hii', 9, 8, 'marks', 32, 'hello']\n"
     ]
    }
   ],
   "source": [
    "#list indexing\n",
    "friends=[\"apple\",\"orange\",5,345.6,False,\"Aakash\",\"Rohan\"]\n",
    "friends[0]=\"grapes\"\n",
    "print(friends[0])\n",
    "print(friends[1:4])\n",
    "\n",
    "#list methos\n",
    "\n",
    "#1.sort()=updates the string in increasing order\n",
    "l1=[4,8,2,9,5]\n",
    "l1.sort()\n",
    "\n",
    "#2.reversed()=reverse the list\n",
    "l1.reverse()\n",
    "print(l1)\n",
    "\n",
    "#3.append=add the another value in the last of strings\n",
    "l1.append(\"beauty\")\n",
    "print(l1)\n",
    "\n",
    "#4.insert=add any value at any index in list\n",
    "friends=[\"apple\",\"orange\",5,345.6,False,\"Aakash\",\"Rohan\"]\n",
    "friends.insert(3,\"banana\")\n",
    "print(friends)\n",
    "\n",
    "#5.pop\n",
    "print(l1.pop(3))\n",
    "\n",
    "#practice\n",
    "list=[2,5,6,1,3]\n",
    "list.sort()\n",
    "print(list) \n",
    "\n",
    "my_num=[32,7,8,9,0]\n",
    "print(my_num[0])\n",
    "my_num[1]=\"marks\"\n",
    "print(my_num)\n",
    "\n",
    "#popping the element\n",
    "print(my_num.pop())\n",
    "#appending the lement\n",
    "my_num.append(\"hii\")\n",
    "print(my_num)\n",
    "#reverse\n",
    "my_num.reverse()\n",
    "print(my_num)\n",
    "\n",
    "\n",
    "#inserting\n",
    "my_num.insert(7,\"hello\")\n",
    "print(my_num)\n",
    "\n"
   ]
  }
 ],
 "metadata": {
  "kernelspec": {
   "display_name": "Python 3",
   "language": "python",
   "name": "python3"
  },
  "language_info": {
   "codemirror_mode": {
    "name": "ipython",
    "version": 3
   },
   "file_extension": ".py",
   "mimetype": "text/x-python",
   "name": "python",
   "nbconvert_exporter": "python",
   "pygments_lexer": "ipython3",
   "version": "3.11.9"
  }
 },
 "nbformat": 4,
 "nbformat_minor": 5
}
