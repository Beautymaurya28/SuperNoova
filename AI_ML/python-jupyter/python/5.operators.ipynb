{
 "cells": [
  {
   "cell_type": "code",
   "execution_count": 6,
   "id": "c3479c59",
   "metadata": {},
   "outputs": [
    {
     "name": "stdout",
     "output_type": "stream",
     "text": [
      "arthimatic operator\n",
      "9\n",
      "1\n",
      "20\n",
      "1.25\n",
      "1\n",
      "realational operator\n",
      "3\n",
      "False\n",
      "comparision operator\n",
      "False\n",
      "False\n",
      "True\n",
      "False\n",
      "True\n",
      "True\n",
      "False\n",
      "logical operator\n",
      "it has only two opearnds 1.and(&&) 2.or(||)\n",
      "true or false is: True\n",
      "true or true is: True\n",
      "false or true is: True\n",
      "true and false is: False\n",
      "true and true is: True\n"
     ]
    },
    {
     "data": {
      "text/plain": [
       "11"
      ]
     },
     "execution_count": 6,
     "metadata": {},
     "output_type": "execute_result"
    }
   ],
   "source": [
    "#arthiamtic operators\n",
    "#->basic mathematical operation\n",
    "print(\"arthimatic operator\")\n",
    "a=5\n",
    "b=4\n",
    "print(a+b)\n",
    "print(a-b)\n",
    "print(a*b)\n",
    "print(a/b)\n",
    "print(a%b)\n",
    "\n",
    "#relational operator\n",
    "#->compare two values (symbol=> <,>,=,!=)\n",
    "print(\"realational operator\")\n",
    "a,b\n",
    "(3,5)\n",
    "a<b\n",
    "#assignment operators\n",
    "c=5\n",
    "d=7\n",
    "d-=4\n",
    "print(d)\n",
    "print(c==6)\n",
    "\n",
    "\n",
    "#comparisam operators\n",
    "print(\"comparision operator\")\n",
    "e=6==7\n",
    "print(e)\n",
    "print(a==b)\n",
    "print(a>b)\n",
    "print(c<d)\n",
    "print(a>=d)\n",
    "print(a<=c)\n",
    "print(a!=c)\n",
    "\n",
    "\n",
    "#logical operators\n",
    "print(\"logical operator\")\n",
    "print(\"it has only two opearnds 1.and(&&) 2.or(||)\")\n",
    "f=True or False\n",
    "print(\"true or false is:\", True or False)\n",
    "print(\"true or true is:\", True or True)\n",
    "print(\"false or true is:\", False or True)\n",
    "print(\"true and false is:\", True and False)\n",
    "print(\"true and true is:\", True and True)\n",
    "log1=True\n",
    "log2=False\n",
    "log1 & log2\n",
    "log2 & log1\n",
    "log1 & log1\n",
    "log1 | log2\n",
    "log1 | log2\n",
    "\n",
    "#without print\n",
    "num1=7\n",
    "num2=4\n",
    "num1+num2\n"
   ]
  }
 ],
 "metadata": {
  "kernelspec": {
   "display_name": "Python 3",
   "language": "python",
   "name": "python3"
  },
  "language_info": {
   "codemirror_mode": {
    "name": "ipython",
    "version": 3
   },
   "file_extension": ".py",
   "mimetype": "text/x-python",
   "name": "python",
   "nbconvert_exporter": "python",
   "pygments_lexer": "ipython3",
   "version": "3.11.9"
  }
 },
 "nbformat": 4,
 "nbformat_minor": 5
}
