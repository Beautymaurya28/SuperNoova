{
 "cells": [
  {
   "cell_type": "code",
   "execution_count": null,
   "id": "9b028f7d",
   "metadata": {},
   "outputs": [],
   "source": [
    "print(\"list:mutuablee(can be modified after decelared or create )\")\n",
    "print(\"list can store multiple type of data types\")\n",
    "print(\"general data\")\n",
    "my_list=[13,24,\"jelel\",5.3]\n"
   ]
  },
  {
   "cell_type": "code",
   "execution_count": null,
   "id": "1a0848c2",
   "metadata": {},
   "outputs": [],
   "source": [
    "print(\"tuple:-orderd but i,utable means can't change after declared or created\")\n",
    "print(\"it can also store multiple type ofdata type\")\n",
    "print(\"read only\")\n",
    "my_tuple=(23,56,'kg')\n"
   ]
  },
  {
   "cell_type": "code",
   "execution_count": null,
   "id": "14bdaa15",
   "metadata": {},
   "outputs": [],
   "source": [
    "print(\"disct: unordered and mutable \")\n",
    "print(\":it store data types in key value pair\")\n",
    "print(\"key value mapping \")\n",
    "my_disct={'name':'nova','class':'ug','age':20}\n"
   ]
  },
  {
   "cell_type": "code",
   "execution_count": null,
   "id": "c86f6075",
   "metadata": {},
   "outputs": [],
   "source": [
    "print(\"array: imutable and it can only store the same type of element\")\n",
    "print(\"use cases: numerical calculation\")\n",
    "from array import array\n",
    "a=array('i',[7,4,2])\n"
   ]
  }
 ],
 "metadata": {
  "language_info": {
   "name": "python"
  }
 },
 "nbformat": 4,
 "nbformat_minor": 5
}
