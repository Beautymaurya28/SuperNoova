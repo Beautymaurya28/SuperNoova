{
 "cells": [
  {
   "cell_type": "code",
   "execution_count": null,
   "id": "c5ffbec5",
   "metadata": {},
   "outputs": [],
   "source": []
  },
  {
   "cell_type": "code",
   "execution_count": 15,
   "id": "7b095a94",
   "metadata": {},
   "outputs": [
    {
     "name": "stdout",
     "output_type": "stream",
     "text": [
      "before loop\n",
      "hello function\n",
      "hello function\n",
      "hello function\n",
      "hello function\n",
      "hello function\n",
      "hello function\n",
      "hello function\n"
     ]
    }
   ],
   "source": [
    "#defining a function\n",
    "def greet():\n",
    "    print(\"hello function\")\n",
    "\n",
    "print(\"before loop\")\n",
    "\n",
    "\n",
    "#ex\n",
    "x=2\n",
    "while x<=2:\n",
    "    greet()\n",
    "    x+=1\n",
    "\n",
    "#using forloop\n",
    "for x in range(1,7): #range(start,stop)\n",
    "     greet()\n",
    "    "
   ]
  },
  {
   "cell_type": "code",
   "execution_count": 16,
   "id": "e2d0fb66",
   "metadata": {},
   "outputs": [
    {
     "name": "stdout",
     "output_type": "stream",
     "text": [
      "yo Noova,welcome back\n"
     ]
    }
   ],
   "source": [
    "#function with parameters\n",
    "def greet(name):\n",
    "    print(f\"yo {name},welcome back\")\n",
    "greet(\"Noova\")"
   ]
  },
  {
   "cell_type": "code",
   "execution_count": 18,
   "id": "105eb863",
   "metadata": {},
   "outputs": [
    {
     "name": "stdout",
     "output_type": "stream",
     "text": [
      "my name is noova\n",
      "my name is noova\n",
      "my name is noova\n"
     ]
    }
   ],
   "source": [
    "def intro(name):\n",
    "    print(f\"my name is {name}\")\n",
    "intro(\"noova\")\n",
    "for i in range(2,4):\n",
    "    intro(\"noova\")\n"
   ]
  },
  {
   "cell_type": "code",
   "execution_count": 19,
   "id": "6d964fb8",
   "metadata": {},
   "outputs": [
    {
     "name": "stdout",
     "output_type": "stream",
     "text": [
      "0\n",
      "1\n",
      "4\n",
      "9\n",
      "16\n"
     ]
    }
   ],
   "source": [
    "def square(x):\n",
    "    return x*x\n",
    "for i in range(5):\n",
    "    print(square(i))"
   ]
  },
  {
   "cell_type": "code",
   "execution_count": null,
   "id": "2e6ba68f",
   "metadata": {},
   "outputs": [
    {
     "name": "stdout",
     "output_type": "stream",
     "text": [
      "hey stranger!\n",
      "hey noova!\n"
     ]
    }
   ],
   "source": [
    "#default argument\n",
    "def greet(name=\"stranger\"):\n",
    "    print(f\"hey {name}!\")\n",
    "greet()\n",
    "greet(\"noova\")\n"
   ]
  },
  {
   "cell_type": "code",
   "execution_count": null,
   "id": "f0d2c92a",
   "metadata": {},
   "outputs": [],
   "source": [
    "#quick function\n",
    "print(\"def-define a function\")\n",
    "print(\"return-sends back a value\")\n",
    "print(\"args-variable number of arguments(tuple)\")\n",
    "print(\"kwargs-keywords vara\")\n"
   ]
  },
  {
   "cell_type": "code",
   "execution_count": null,
   "id": "1fc049ed",
   "metadata": {},
   "outputs": [],
   "source": [
    "print(\"function: reusable block of code \")\n"
   ]
  }
 ],
 "metadata": {
  "kernelspec": {
   "display_name": "Python 3",
   "language": "python",
   "name": "python3"
  },
  "language_info": {
   "codemirror_mode": {
    "name": "ipython",
    "version": 3
   },
   "file_extension": ".py",
   "mimetype": "text/x-python",
   "name": "python",
   "nbconvert_exporter": "python",
   "pygments_lexer": "ipython3",
   "version": "3.11.9"
  }
 },
 "nbformat": 4,
 "nbformat_minor": 5
}
