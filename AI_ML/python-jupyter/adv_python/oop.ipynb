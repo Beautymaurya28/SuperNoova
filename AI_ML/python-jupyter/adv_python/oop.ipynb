{
 "cells": [
  {
   "cell_type": "code",
   "execution_count": null,
   "id": "9e175a58",
   "metadata": {},
   "outputs": [],
   "source": [
    "print(\"oop is a programming paradigm that organize code using objects-like real world stuff\")\n",
    "print(\"python treats everything as an objects-even integers strings,list, and function\")\n"
   ]
  }
 ],
 "metadata": {
  "language_info": {
   "name": "python"
  }
 },
 "nbformat": 4,
 "nbformat_minor": 5
}
