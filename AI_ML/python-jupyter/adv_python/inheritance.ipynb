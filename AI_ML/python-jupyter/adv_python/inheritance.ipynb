{
 "cells": [
  {
   "cell_type": "code",
   "execution_count": null,
   "id": "3d91d789",
   "metadata": {},
   "outputs": [],
   "source": [
    "print(\"what is inheritance?\")\n",
    "print(\"with inheritance  once class drive the properties of another class\")\n",
    "print(\"ex:man inheriting features from his father\")\n"
   ]
  },
  {
   "cell_type": "code",
   "execution_count": null,
   "id": "56ba5de3",
   "metadata": {},
   "outputs": [
    {
     "ename": "IndentationError",
     "evalue": "unindent does not match any outer indentation level (<tokenize>, line 30)",
     "output_type": "error",
     "traceback": [
      "  \u001b[36mFile \u001b[39m\u001b[32m<tokenize>:30\u001b[39m\n\u001b[31m    \u001b[39m\u001b[31mdef show_car_details(self):\u001b[39m\n    ^\n\u001b[31mIndentationError\u001b[39m\u001b[31m:\u001b[39m unindent does not match any outer indentation level\n"
     ]
    }
   ],
   "source": [
    "#creating the base class\n",
    "class Vehicle:\n",
    "    def __init__(self,mileage,cost):\n",
    "        self.mileage=mileage\n",
    "        self.cost=cost\n",
    "    def show_details(self):\n",
    "       print(\"I am a vehicle\")\n",
    "       print(\"Mileage of vehicle is \", self.mileage)\n",
    "       print(\"cost of vehicle is\",self.cost)\n",
    "\n",
    "#instanting the object form base class\n",
    "v1=Vehicle(500,500)\n",
    "# v1.show_details()\n",
    "#creating the child class\n",
    "class Car(Vehicle):\n",
    "    def show_car(self):\n",
    "     print(\"I m a car\")\n",
    "     c1=Car(200,1200)\n",
    "     c1.show_details()\n",
    "     c1.show_car()\n",
    "\n",
    "\n",
    "#overriding init method\n",
    "class Car(Vehicle):\n",
    "   def __init__(self,mileage,cost,tyres,hp):\n",
    "      super().__init__(mileage,cost)\n",
    "      self.tyres=tyres\n",
    "      self.hp=hp\n",
    "\n",
    "    def show_car_details(self):\n",
    "      print(\"i am a car\")\n",
    "      print(\"number of tyres are \",self.tyres)\n",
    "      print(\"values of horse power is\",self.hp)\n",
    "\n",
    "      #invoking show)details method from parent class\n",
    "      c1=Car(20,1200,4,300)\n",
    "      c1.show_details()\n",
    "      \n",
    "\n",
    "      \n",
    "      \n",
    "     \n",
    "\n",
    "\n",
    "\n"
   ]
  },
  {
   "cell_type": "code",
   "execution_count": null,
   "id": "55757254",
   "metadata": {},
   "outputs": [],
   "source": [
    "print(\"types of inheritance\")\n",
    "print(\"1.single 2.multiple,3.multi-level 4.hybrid\")\n",
    "\n",
    "\n"
   ]
  },
  {
   "cell_type": "code",
   "execution_count": 7,
   "id": "9d3ff37d",
   "metadata": {},
   "outputs": [
    {
     "name": "stdout",
     "output_type": "stream",
     "text": [
      "multiple inheritance ,the child inherits from more than 1 parents class\n",
      "ex:mother-father=you\n"
     ]
    },
    {
     "data": {
      "text/plain": [
       "'three'"
      ]
     },
     "execution_count": 7,
     "metadata": {},
     "output_type": "execute_result"
    }
   ],
   "source": [
    "#multiple inheritance\n",
    "print(\"multiple inheritance ,the child inherits from more than 1 parents class\")\n",
    "\n",
    "print(\"ex:mother-father=you\")\n",
    "\n",
    "#1 parents class one\n",
    "class Parent1():\n",
    "    def assign_string_one(self,str1):\n",
    "        self.str1=str1\n",
    "\n",
    "    def show_string_one(self):\n",
    "        return self.str1\n",
    "    \n",
    "#2 parent class two\n",
    "class Parent2():\n",
    "    def assign_string_two(self,str2):\n",
    "        self.str2=str2\n",
    "    def show_string_two(self):\n",
    "        return self.str2\n",
    "\n",
    "#childclass\n",
    "class Derived(Parent1,Parent2):\n",
    "    def assign_string_three(self,str3):\n",
    "        self.str3=str3\n",
    "    def show_string_three(self):\n",
    "        return self.str3\n",
    "\n",
    "\n",
    "#instantiating object of child class\n",
    "d1=Derived()\n",
    "d1.assign_string_one(\"one\")\n",
    "d1.assign_string_two(\"two\")\n",
    "d1.assign_string_three(\"three\")\n",
    "\n",
    "#invoking methods\n",
    "d1.show_string_one()\n",
    "d1.show_string_three()\n",
    "d1.show_string_three()"
   ]
  },
  {
   "cell_type": "code",
   "execution_count": null,
   "id": "925398ca",
   "metadata": {},
   "outputs": [],
   "source": []
  },
  {
   "cell_type": "code",
   "execution_count": null,
   "id": "8e34e4a1",
   "metadata": {},
   "outputs": [],
   "source": []
  }
 ],
 "metadata": {
  "kernelspec": {
   "display_name": "Python 3",
   "language": "python",
   "name": "python3"
  },
  "language_info": {
   "codemirror_mode": {
    "name": "ipython",
    "version": 3
   },
   "file_extension": ".py",
   "mimetype": "text/x-python",
   "name": "python",
   "nbconvert_exporter": "python",
   "pygments_lexer": "ipython3",
   "version": "3.11.9"
  }
 },
 "nbformat": 4,
 "nbformat_minor": 5
}
