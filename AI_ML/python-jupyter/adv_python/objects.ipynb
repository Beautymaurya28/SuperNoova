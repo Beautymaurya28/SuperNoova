{
 "cells": [
  {
   "cell_type": "code",
   "execution_count": null,
   "id": "72c5a4cb",
   "metadata": {},
   "outputs": [],
   "source": [
    "print(\"objects: the real world entites in programming world\")\n",
    "print(\"objects are nothing but specific instances of class\")\n",
    "print(\"apple\",\"amsung\",\"oppo\",\"vivo\")\n",
    "\n"
   ]
  },
  {
   "cell_type": "code",
   "execution_count": null,
   "id": "148fcdf9",
   "metadata": {},
   "outputs": [],
   "source": []
  },
  {
   "cell_type": "code",
   "execution_count": null,
   "id": "6e226e6d",
   "metadata": {},
   "outputs": [],
   "source": []
  }
 ],
 "metadata": {
  "language_info": {
   "name": "python"
  }
 },
 "nbformat": 4,
 "nbformat_minor": 5
}
