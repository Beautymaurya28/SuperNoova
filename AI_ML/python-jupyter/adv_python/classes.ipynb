{
 "cells": [
  {
   "cell_type": "code",
   "execution_count": null,
   "id": "59b08915",
   "metadata": {},
   "outputs": [
    {
     "name": "stdout",
     "output_type": "stream",
     "text": [
      "template/blue-print for real world entities\n",
      "ex: phone-1.properties(coloe,cost,battery) 2.behavior(make call,watch movie,play games)\n",
      "but the question is what exactly the class in python?\n",
      "so basically in python the class is (user defined data type)\n",
      "whats the difference btw user defined data type or predefined data type\n",
      "user defined data types are class which is defined by the user which can be anything like mobile car books anything which exist in this world and pre-defined data types are inbuilt data which is already defined after research and studies we cannot modified this now ex: int,bool,str,float\n",
      "In class we have two thing 1.attributes=properties of the class. 2.methoes=these are behivior of the class\n"
     ]
    }
   ],
   "source": [
    "print(\"emplate/blue-print for real world entities\")\n",
    "\n",
    "print(\"ex: phone-1.properties(coloe,cost,battery) 2.behavior(make call,watch movie,play games)\")\n",
    "\n",
    "print(\"but the question is what exactly the class in python?\")\n",
    "print(\"so basically in python the class is (user defined data type)\")\n",
    "print(\"whats the difference btw user defined data type or predefined data type\")\n",
    "print(\"user defined data types are class which is defined by the user which can be anything like mobile car books anything which exist in this world and pre-defined data types are inbuilt data which is already defined after research and studies we cannot modified this now ex: int,bool,str,float\")\n",
    "print(\"In class we have two thing 1.attributes=properties of the class. 2.methoes=these are behivior of the class\")\n"
   ]
  },
  {
   "cell_type": "code",
   "execution_count": 12,
   "id": "dc52ff1a",
   "metadata": {},
   "outputs": [
    {
     "name": "stdout",
     "output_type": "stream",
     "text": [
      " first we defining a class named as 'PHONE' and then def make_call(self)-this is as constructor method-it automatically runs when you create an object. and 'self'- this is the objects being created 'me,myself,and 1'\n",
      "inside the class we are defining the two methods of the class\n",
      "def- with the help of this we can make the behaviour of the class\n",
      "self-with the helpof self parameter we will be able to invoke the attributes which are present in this class\n",
      "always remember the name of the class should start with the capital\n",
      "imagination-blueprint(like a recipe),object- final cake you baked,oop-way to organize code like real-world logic\n"
     ]
    }
   ],
   "source": [
    "print(\" first we defining a class named as 'PHONE' and then def make_call(self)-this is as constructor method-it automatically runs when you create an object. and 'self'- this is the objects being created 'me,myself,and 1'\")\n",
    "print(\"inside the class we are defining the two methods of the class\")\n",
    "print(\"def- with the help of this we can make the behaviour of the class\")\n",
    "print(\"self-with the helpof self parameter we will be able to invoke the attributes which are present in this class\")\n",
    "print(\"always remember the name of the class should start with the capital\")\n",
    "print(\"imagination-blueprint(like a recipe),object- final cake you baked,oop-way to organize code like real-world logic\")\n"
   ]
  },
  {
   "cell_type": "code",
   "execution_count": null,
   "id": "bb45182b",
   "metadata": {},
   "outputs": [],
   "source": [
    "#class concept:\n",
    "print(\"1.class- defines the class(class car)\")\n",
    "print(\"2. __init__()-Constructor-runs when object is created (sets default value)\")\n",
    "print(\"3.self-refers to the object itself(self.name=name)\")\n",
    "print(\"4.object-an instance of the class(obj=car()\")\n",
    "print(\" df __init__self, name, age:This is the constructor method.It runs automatically jab tum Student class ka object banati ho.__init__ = \"initialize kar do ye object bhai!\"self.name = nameYeh line bol rahi:Jo naam tum mujhe object banate waqt doge, usse main apne andar store kar loongi.\")\n",
    "print(\"ncnbsm\")"
   ]
  },
  {
   "cell_type": "code",
   "execution_count": null,
   "id": "9cf92fc8",
   "metadata": {},
   "outputs": [],
   "source": [
    "#adding parameters to theclass:\n",
    "class Phone:\n",
    "    #these are methods:\n",
    "    def set_color(self,color):\n",
    "        self.color=color\n",
    "    def set_cost(self,cost):\n",
    "        self.cost=cost\n",
    "    def show_color(self):\n",
    "        #return the value\n",
    "        return self.color\n",
    "    def show_cost(self):\n",
    "     return self.cost\n",
    "    def make_call(self):\n",
    "       print(\"making phone call\")\n",
    "    def play_game(self):\n",
    "       print(\"playing game\")\n",
    "    "
   ]
  },
  {
   "cell_type": "code",
   "execution_count": 26,
   "id": "3f9e741d",
   "metadata": {},
   "outputs": [],
   "source": [
    "p1=Phone()"
   ]
  },
  {
   "cell_type": "code",
   "execution_count": 27,
   "id": "a6b88c58",
   "metadata": {},
   "outputs": [],
   "source": [
    "p1.set_color(\"blue\")\n"
   ]
  },
  {
   "cell_type": "code",
   "execution_count": 29,
   "id": "d7321cc6",
   "metadata": {},
   "outputs": [],
   "source": [
    "p1.set_cost(999)\n"
   ]
  },
  {
   "cell_type": "code",
   "execution_count": 30,
   "id": "35fb582e",
   "metadata": {},
   "outputs": [
    {
     "data": {
      "text/plain": [
       "'blue'"
      ]
     },
     "execution_count": 30,
     "metadata": {},
     "output_type": "execute_result"
    }
   ],
   "source": [
    "p1.show_color()"
   ]
  },
  {
   "cell_type": "code",
   "execution_count": 31,
   "id": "4346c27b",
   "metadata": {},
   "outputs": [
    {
     "data": {
      "text/plain": [
       "999"
      ]
     },
     "execution_count": 31,
     "metadata": {},
     "output_type": "execute_result"
    }
   ],
   "source": [
    "p1.show_cost()"
   ]
  }
 ],
 "metadata": {
  "kernelspec": {
   "display_name": "Python 3",
   "language": "python",
   "name": "python3"
  },
  "language_info": {
   "codemirror_mode": {
    "name": "ipython",
    "version": 3
   },
   "file_extension": ".py",
   "mimetype": "text/x-python",
   "name": "python",
   "nbconvert_exporter": "python",
   "pygments_lexer": "ipython3",
   "version": "3.11.9"
  }
 },
 "nbformat": 4,
 "nbformat_minor": 5
}
