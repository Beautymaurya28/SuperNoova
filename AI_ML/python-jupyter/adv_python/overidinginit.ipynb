{
 "cells": [
  {
   "cell_type": "code",
   "execution_count": null,
   "id": "5ca3adfb",
   "metadata": {},
   "outputs": [],
   "source": [
    "#over riding init method\n",
    "\n"
   ]
  }
 ],
 "metadata": {
  "language_info": {
   "name": "python"
  }
 },
 "nbformat": 4,
 "nbformat_minor": 5
}
