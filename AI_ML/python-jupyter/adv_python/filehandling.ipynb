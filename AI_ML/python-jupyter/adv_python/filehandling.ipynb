{
 "cells": [
  {
   "cell_type": "code",
   "execution_count": null,
   "id": "d930644e",
   "metadata": {},
   "outputs": [],
   "source": [
    "print(\"dealing with txt file is known as file handling or even called as file i/o function\")\n",
    "print(\"there are different function involved ,which help to read ,write,append,alter and perform many other functions\")\n",
    "print(\"the ide used is pycharm and python version 3.9.1 or above\")\n"
   ]
  },
  {
   "cell_type": "code",
   "execution_count": null,
   "id": "e8a6bbdf",
   "metadata": {},
   "outputs": [],
   "source": [
    "print(\"open read and write modes\")\n",
    "print(\"1.open mode: this mode is used whenever you want to opneyour txt file for reading ,writing or doing some other stuffs\")\n",
    "print(\"2.read mode-this mode is used whenever you want to read the text which is already stored in your txt file\")\n",
    "print(\"3.write mode-this mode is used whenever you want to write the textin your .txt file\")\n"
   ]
  },
  {
   "cell_type": "code",
   "execution_count": 1,
   "id": "766a057e",
   "metadata": {},
   "outputs": [
    {
     "name": "stdout",
     "output_type": "stream",
     "text": [
      "write to a file\n"
     ]
    }
   ],
   "source": [
    "#file input/output(file i/o)\n",
    "print(\"write to a file\")\n",
    "with open(\"README.md\",\"w\") as file: #\"w\" is for write mode and with-handles open/close automatically\n",
    "    file.write(\"hello nova! you are learning python currently!\\n\")\n"
   ]
  },
  {
   "cell_type": "code",
   "execution_count": null,
   "id": "47f630af",
   "metadata": {},
   "outputs": [
    {
     "name": "stdout",
     "output_type": "stream",
     "text": [
      "hello nova! you are learning python currently!\n",
      "\n"
     ]
    }
   ],
   "source": [
    "#read from a file\n",
    "with open(\"README.md\",\"r\") as file: #\"r\"->read mode and file.read()=reads enire content as one string\n",
    "    content=file.read()\n",
    "    print(content)"
   ]
  },
  {
   "cell_type": "code",
   "execution_count": 3,
   "id": "3e5a78c6",
   "metadata": {},
   "outputs": [],
   "source": [
    "#append to file\n",
    "with open(\"README.md\",\"a\") as file:\n",
    "  file.write(\"appeding more wisdom!\\n\")"
   ]
  }
 ],
 "metadata": {
  "kernelspec": {
   "display_name": "Python 3",
   "language": "python",
   "name": "python3"
  },
  "language_info": {
   "codemirror_mode": {
    "name": "ipython",
    "version": 3
   },
   "file_extension": ".py",
   "mimetype": "text/x-python",
   "name": "python",
   "nbconvert_exporter": "python",
   "pygments_lexer": "ipython3",
   "version": "3.11.9"
  }
 },
 "nbformat": 4,
 "nbformat_minor": 5
}
