{
 "cells": [
  {
   "cell_type": "code",
   "execution_count": null,
   "id": "3246eda0",
   "metadata": {},
   "outputs": [],
   "source": [
    "#Creating class with constructor\n",
    "print(\"what is constructor?\")\n",
    "print(\"-constructor is a special method which would have the same name as thatof the classand this would helpus to initialize the values of the attributes during the object creation  itself\")\n",
    "print(\"constructor in python the name of this method will not be equal to the name of the class so the constructor in python goes by the name of init method\")\n",
    "\n"
   ]
  },
  {
   "cell_type": "code",
   "execution_count": 3,
   "id": "73dd5a65",
   "metadata": {},
   "outputs": [
    {
     "name": "stdout",
     "output_type": "stream",
     "text": [
      "Name of employee is  sam\n",
      "Age of empolyee is  32\n",
      "Salary of employee is 56000\n",
      "Gender of employee is male\n"
     ]
    }
   ],
   "source": [
    "class Employee:\n",
    "    def __init__(self,name,age,salary,gender):\n",
    "        #init method act as the constructor\n",
    "        self.name=name\n",
    "        self.age=age\n",
    "        self.salary=salary\n",
    "        self.gender=gender\n",
    "\n",
    "    def employee_details(self):\n",
    "        print(\"Name of employee is \",self.name)\n",
    "        print(\"Age of empolyee is \",self.age)\n",
    "        print(\"Salary of employee is\",self.salary)\n",
    "        print(\"Gender of employee is\",self.gender)\n",
    "        \n",
    "        #instanting object\n",
    "e1=Employee('sam',32,56000,'male')\n",
    "#instantiating the 'e1' object\n",
    "\n",
    "e1.employee_details()\n",
    "#Invoking the 'employee_details' method\n",
    "\n"
   ]
  },
  {
   "cell_type": "code",
   "execution_count": null,
   "id": "5a98815d",
   "metadata": {},
   "outputs": [],
   "source": []
  },
  {
   "cell_type": "code",
   "execution_count": null,
   "id": "d051ba5d",
   "metadata": {},
   "outputs": [
    {
     "ename": "NameError",
     "evalue": "name 'e1' is not defined",
     "output_type": "error",
     "traceback": [
      "\u001b[31m---------------------------------------------------------------------------\u001b[39m",
      "\u001b[31mNameError\u001b[39m                                 Traceback (most recent call last)",
      "\u001b[36mCell\u001b[39m\u001b[36m \u001b[39m\u001b[32mIn[2]\u001b[39m\u001b[32m, line 1\u001b[39m\n\u001b[32m----> \u001b[39m\u001b[32m1\u001b[39m \u001b[43me1\u001b[49m.employee_details()\n\u001b[32m      2\u001b[39m \u001b[38;5;66;03m#Invoking the 'employee_details' method\u001b[39;00m\n",
      "\u001b[31mNameError\u001b[39m: name 'e1' is not defined"
     ]
    }
   ],
   "source": []
  }
 ],
 "metadata": {
  "kernelspec": {
   "display_name": "Python 3",
   "language": "python",
   "name": "python3"
  },
  "language_info": {
   "codemirror_mode": {
    "name": "ipython",
    "version": 3
   },
   "file_extension": ".py",
   "mimetype": "text/x-python",
   "name": "python",
   "nbconvert_exporter": "python",
   "pygments_lexer": "ipython3",
   "version": "3.11.9"
  }
 },
 "nbformat": 4,
 "nbformat_minor": 5
}
